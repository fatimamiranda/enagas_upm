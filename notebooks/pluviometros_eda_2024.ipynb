{
 "cells": [
  {
   "metadata": {},
   "cell_type": "markdown",
   "source": [
    "# Configuración Inicial\n",
    "Este bloque configura las rutas, variables y estructuras necesarias para procesar los datos.\n"
   ],
   "id": "7add8aeb579bb316"
  },
  {
   "metadata": {
    "ExecuteTime": {
     "end_time": "2024-12-10T16:35:15.625583Z",
     "start_time": "2024-12-10T16:35:15.622015Z"
    }
   },
   "cell_type": "code",
   "source": [
    "import os\n",
    "import pandas as pd\n",
    "import re\n",
    "\n",
    "# Configuración general\n",
    "YEAR = 2024\n",
    "RAW_FOLDER = \"../data/raw\"\n",
    "PROCESSED_FOLDER = \"../data/processed\"\n",
    "FILE_PATH_XLSX = f\"{RAW_FOLDER}/data_{YEAR}.xlsx\"\n",
    "FILE_PATH_XLSB = f\"{RAW_FOLDER}/data_{YEAR}.xlsb\"\n",
    "OUTPUT_PATH = f\"{PROCESSED_FOLDER}/{YEAR}/pluviometros-eda-{YEAR}.csv\"\n"
   ],
   "id": "a8715cf760b657c4",
   "outputs": [],
   "execution_count": 18
  },
  {
   "metadata": {
    "ExecuteTime": {
     "end_time": "2024-12-10T16:35:15.653923Z",
     "start_time": "2024-12-10T16:35:15.649826Z"
    }
   },
   "cell_type": "code",
   "source": [
    "\n",
    "# Mapeo de columnas\n",
    "COLUMN_MAPPING = {\n",
    "    'Fecha': ['Fecha', 'Date', 'Día', 'Dia'],\n",
    "    'Kiteni': ['Base Operativa Kiteni', 'Kiteni', 'Obrador Kiteni'],\n",
    "    'PS#1': ['PS1', 'PS#1', 'PS-1'],\n",
    "    'PS#2': ['PS2', 'PS#2','PS-2', 'Planta de Selección #2'],\n",
    "    'PS#3': ['PS3', 'PS#3',  'PS-3', 'Planta de Selección #3'],\n",
    "    'PS#4': ['PS-4', 'PS#4/XV10007']\n",
    "}\n"
   ],
   "id": "42c0da71886c182f",
   "outputs": [],
   "execution_count": 19
  },
  {
   "metadata": {},
   "cell_type": "markdown",
   "source": [
    "# Funciones Auxiliares\n",
    "Este bloque contiene las funciones necesarias para procesar los datos:\n",
    "1. Detección de encabezados.\n",
    "2. Identificación de columnas relevantes.\n",
    "3. Manejo de valores faltantes (`NaNs`).\n",
    "4. Agregar información sobre rupturas.\n",
    "5. Identificar outliers.\n"
   ],
   "id": "6eb59fa44e1fb5d2"
  },
  {
   "metadata": {
    "ExecuteTime": {
     "end_time": "2024-12-10T16:35:15.673409Z",
     "start_time": "2024-12-10T16:35:15.667861Z"
    }
   },
   "cell_type": "code",
   "source": [
    "def detect_header_row(df, max_rows=15):\n",
    "    \"\"\"Detecta la fila que contiene los encabezados reales.\"\"\"\n",
    "    for row in range(max_rows):\n",
    "        possible_header = df.iloc[row].values\n",
    "        if any(isinstance(val, str) and len(val.strip()) > 0 for val in possible_header):\n",
    "            return row\n",
    "    return 0  # Si no se detecta, usar la primera fila\n",
    "\n",
    "def detect_relevant_columns(df, column_mapping):\n",
    "    \"\"\"Detecta columnas relevantes basadas en nombres similares.\"\"\"\n",
    "    detected_columns = {}\n",
    "    for expected_col, possible_names in column_mapping.items():\n",
    "        for col in df.columns:\n",
    "            if any(re.search(rf\"\\b{re.escape(name)}\\b\", str(col), re.IGNORECASE) for name in possible_names):\n",
    "                detected_columns[expected_col] = col\n",
    "                break\n",
    "    return detected_columns\n",
    "\n",
    "def handle_missing_values(df, method='global_mean', monthly_averages=None):\n",
    "    \"\"\"Reemplaza NaNs con el promedio por columna (global o mensual).\"\"\"\n",
    "    for col in df.columns:\n",
    "        if col != 'Fecha':\n",
    "            if method == 'global_mean':\n",
    "                # Promedio global por columna\n",
    "                mean_value = df[col].replace(0, pd.NA).mean(skipna=True)\n",
    "                df[col] = df[col].fillna(mean_value)\n",
    "            elif method == 'monthly_mean' and monthly_averages is not None:\n",
    "                # Promedio mensual basado en datos disponibles\n",
    "                df['Mes'] = pd.to_datetime(df['Fecha']).dt.month\n",
    "                df[col] = df.apply(\n",
    "                    lambda row: monthly_averages.loc[row['Mes'], col]\n",
    "                    if pd.isnull(row[col]) else row[col], axis=1\n",
    "                )\n",
    "    return df\n"
   ],
   "id": "9f2c6c0e004889d7",
   "outputs": [],
   "execution_count": 20
  },
  {
   "metadata": {},
   "cell_type": "markdown",
   "source": [
    "# Carga de Datos\n",
    "Este bloque carga los datos desde el archivo Excel y consolida todas las hojas.\n"
   ],
   "id": "ab6741fb956ee547"
  },
  {
   "metadata": {
    "ExecuteTime": {
     "end_time": "2024-12-10T16:35:15.725722Z",
     "start_time": "2024-12-10T16:35:15.685499Z"
    }
   },
   "cell_type": "code",
   "source": [
    "if os.path.exists(FILE_PATH_XLSX):\n",
    "    file_path, engine = FILE_PATH_XLSX, None\n",
    "elif os.path.exists(FILE_PATH_XLSB):\n",
    "    file_path, engine = FILE_PATH_XLSB, 'pyxlsb'\n",
    "else:\n",
    "    raise FileNotFoundError(f\"No se encontró archivo para el año {YEAR}\")\n",
    "\n",
    "excel_data = pd.ExcelFile(file_path, engine=engine)\n",
    "sheet_names = excel_data.sheet_names\n",
    "print(f\"Hojas disponibles: {sheet_names}\")\n",
    "\n"
   ],
   "id": "1bc543dcb18abd1f",
   "outputs": [
    {
     "name": "stdout",
     "output_type": "stream",
     "text": [
      "Hojas disponibles: ['DATOS', 'ENE', 'FEB', 'MAR', 'ABR', 'MAY', 'JUN', 'JUL', 'AGO', 'SET', 'OCT', 'NOV', 'DIC', 'DIC - WEBGIS']\n"
     ]
    }
   ],
   "execution_count": 21
  },
  {
   "metadata": {
    "ExecuteTime": {
     "end_time": "2024-12-10T16:35:15.862697Z",
     "start_time": "2024-12-10T16:35:15.739260Z"
    }
   },
   "cell_type": "code",
   "source": [
    "all_processed_data = pd.DataFrame()\n",
    "\n",
    "if os.path.exists(FILE_PATH_XLSX):\n",
    "    file_path, engine = FILE_PATH_XLSX, None\n",
    "elif os.path.exists(FILE_PATH_XLSB):\n",
    "    file_path, engine = FILE_PATH_XLSB, 'pyxlsb'\n",
    "else:\n",
    "    raise FileNotFoundError(f\"No se encontró archivo para el año {YEAR}\")\n",
    "\n",
    "excel_data = pd.ExcelFile(file_path, engine=engine)\n",
    "sheet_names = excel_data.sheet_names\n",
    "sheet_names = [sheet for sheet in sheet_names if sheet not in ['DATOS', 'ENE´24', 'ENE´24 - WEBGIS']]\n",
    "print(f\"Hojas disponibles: {sheet_names}\")\n"
   ],
   "id": "8c3f67616d0137e2",
   "outputs": [
    {
     "name": "stdout",
     "output_type": "stream",
     "text": [
      "Hojas disponibles: ['ENE', 'FEB', 'MAR', 'ABR', 'MAY', 'JUN', 'JUL', 'AGO', 'SET', 'OCT', 'NOV', 'DIC', 'DIC - WEBGIS']\n"
     ]
    }
   ],
   "execution_count": 22
  },
  {
   "metadata": {
    "ExecuteTime": {
     "end_time": "2024-12-10T16:35:16.264768Z",
     "start_time": "2024-12-10T16:35:15.874786Z"
    }
   },
   "cell_type": "code",
   "source": [
    "for sheet_name in sheet_names:\n",
    "    print(f\"\\nProcesando hoja: {sheet_name}\")\n",
    "\n",
    "    try:\n",
    "        # Detección de encabezados\n",
    "        sheet_preview = excel_data.parse(sheet_name, nrows=15)\n",
    "        header_row = detect_header_row(sheet_preview)\n",
    "        # Carga completa de datos\n",
    "        sheet_data = excel_data.parse(sheet_name, skiprows=header_row)\n",
    "\n",
    "        new_column_names = {}\n",
    "        for expected_col, possible_names in COLUMN_MAPPING.items():\n",
    "            for col in sheet_data.columns:\n",
    "                if any(re.search(rf\"\\b{re.escape(name)}\\b\", str(col), re.IGNORECASE) for name in possible_names):\n",
    "                    new_column_names[col] = expected_col\n",
    "                    break\n",
    "\n",
    "        # Renombrar columnas según el mapeo\n",
    "        sheet_data = sheet_data.rename(columns=new_column_names)\n",
    "\n",
    "        columnas = sheet_data.columns.tolist()\n",
    "        for col in columnas:\n",
    "            if col not in COLUMN_MAPPING.keys():\n",
    "                sheet_data = sheet_data.drop(columns=[(col)])\n",
    "\n",
    "        sheet_data['Fecha'] = pd.to_datetime(sheet_data['Fecha'], errors='coerce')\n",
    "        sheet_data['Mes'] = sheet_data['Fecha'].dt.month\n",
    "\n",
    "        # Sustituir NaN por la media de cada mes\n",
    "        numeric_columns = sheet_data.select_dtypes(include=['float64', 'int64']).columns\n",
    "        for col in numeric_columns:\n",
    "            sheet_data[col] = sheet_data.groupby('Mes')[col].transform(lambda x: x.fillna(x.mean()))\n",
    "\n",
    "        # Concatenar datos procesados\n",
    "        all_processed_data = pd.concat([all_processed_data, sheet_data], ignore_index=True)\n",
    "\n",
    "    except Exception as e:\n",
    "        print(f\"Error procesando la hoja {sheet_name}: {e}\")\n",
    "\n",
    "print(\"\\nDatos consolidados:\")\n",
    "display(all_processed_data.head())"
   ],
   "id": "4464ce618fdddd95",
   "outputs": [
    {
     "name": "stdout",
     "output_type": "stream",
     "text": [
      "\n",
      "Procesando hoja: ENE\n",
      "\n",
      "Procesando hoja: FEB\n",
      "\n",
      "Procesando hoja: MAR\n",
      "\n",
      "Procesando hoja: ABR\n",
      "\n",
      "Procesando hoja: MAY\n",
      "\n",
      "Procesando hoja: JUN\n",
      "\n",
      "Procesando hoja: JUL\n",
      "\n",
      "Procesando hoja: AGO\n",
      "\n",
      "Procesando hoja: SET\n",
      "\n",
      "Procesando hoja: OCT\n",
      "\n",
      "Procesando hoja: NOV\n",
      "\n",
      "Procesando hoja: DIC\n",
      "Error procesando la hoja DIC: 'Fecha'\n",
      "\n",
      "Procesando hoja: DIC - WEBGIS\n",
      "Error procesando la hoja DIC - WEBGIS: 'Fecha'\n",
      "\n",
      "Datos consolidados:\n"
     ]
    },
    {
     "name": "stderr",
     "output_type": "stream",
     "text": [
      "C:\\Users\\fatima.miranda\\PycharmProjects\\eneagas_upm\\.venv\\Lib\\site-packages\\openpyxl\\worksheet\\_reader.py:329: UserWarning: Data Validation extension is not supported and will be removed\n",
      "  warn(msg)\n"
     ]
    },
    {
     "data": {
      "text/plain": [
       "       Fecha  Kiteni   PS#1  PS#2   PS#3  PS#4  Mes\n",
       "0 2024-01-01    41.0  108.1  11.5   0.00  0.00    1\n",
       "1 2024-01-02     7.2   98.2  20.9   5.33  0.19    1\n",
       "2 2024-01-03     7.6    5.0  15.3  22.86  0.84    1\n",
       "3 2024-01-04    32.4    9.8  64.7  17.78  0.70    1\n",
       "4 2024-01-05     8.0   27.1  34.4  34.04  1.27    1"
      ],
      "text/html": [
       "<div>\n",
       "<style scoped>\n",
       "    .dataframe tbody tr th:only-of-type {\n",
       "        vertical-align: middle;\n",
       "    }\n",
       "\n",
       "    .dataframe tbody tr th {\n",
       "        vertical-align: top;\n",
       "    }\n",
       "\n",
       "    .dataframe thead th {\n",
       "        text-align: right;\n",
       "    }\n",
       "</style>\n",
       "<table border=\"1\" class=\"dataframe\">\n",
       "  <thead>\n",
       "    <tr style=\"text-align: right;\">\n",
       "      <th></th>\n",
       "      <th>Fecha</th>\n",
       "      <th>Kiteni</th>\n",
       "      <th>PS#1</th>\n",
       "      <th>PS#2</th>\n",
       "      <th>PS#3</th>\n",
       "      <th>PS#4</th>\n",
       "      <th>Mes</th>\n",
       "    </tr>\n",
       "  </thead>\n",
       "  <tbody>\n",
       "    <tr>\n",
       "      <th>0</th>\n",
       "      <td>2024-01-01</td>\n",
       "      <td>41.0</td>\n",
       "      <td>108.1</td>\n",
       "      <td>11.5</td>\n",
       "      <td>0.00</td>\n",
       "      <td>0.00</td>\n",
       "      <td>1</td>\n",
       "    </tr>\n",
       "    <tr>\n",
       "      <th>1</th>\n",
       "      <td>2024-01-02</td>\n",
       "      <td>7.2</td>\n",
       "      <td>98.2</td>\n",
       "      <td>20.9</td>\n",
       "      <td>5.33</td>\n",
       "      <td>0.19</td>\n",
       "      <td>1</td>\n",
       "    </tr>\n",
       "    <tr>\n",
       "      <th>2</th>\n",
       "      <td>2024-01-03</td>\n",
       "      <td>7.6</td>\n",
       "      <td>5.0</td>\n",
       "      <td>15.3</td>\n",
       "      <td>22.86</td>\n",
       "      <td>0.84</td>\n",
       "      <td>1</td>\n",
       "    </tr>\n",
       "    <tr>\n",
       "      <th>3</th>\n",
       "      <td>2024-01-04</td>\n",
       "      <td>32.4</td>\n",
       "      <td>9.8</td>\n",
       "      <td>64.7</td>\n",
       "      <td>17.78</td>\n",
       "      <td>0.70</td>\n",
       "      <td>1</td>\n",
       "    </tr>\n",
       "    <tr>\n",
       "      <th>4</th>\n",
       "      <td>2024-01-05</td>\n",
       "      <td>8.0</td>\n",
       "      <td>27.1</td>\n",
       "      <td>34.4</td>\n",
       "      <td>34.04</td>\n",
       "      <td>1.27</td>\n",
       "      <td>1</td>\n",
       "    </tr>\n",
       "  </tbody>\n",
       "</table>\n",
       "</div>"
      ]
     },
     "metadata": {},
     "output_type": "display_data"
    }
   ],
   "execution_count": 23
  },
  {
   "metadata": {
    "ExecuteTime": {
     "end_time": "2024-12-10T16:35:16.288923Z",
     "start_time": "2024-12-10T16:35:16.277796Z"
    }
   },
   "cell_type": "code",
   "source": [
    "# Mostrar resumen general de NaN por columna\n",
    "# Mostrar cantidad total de NaN por columna\n",
    "print(\"Cantidad total de valores NaN por columna:\")\n",
    "total_nan = all_processed_data.isnull().sum()\n",
    "print(total_nan)\n",
    "\n",
    "# Identificar columnas con valores NaN y su tipo de dato\n",
    "nan_columns = total_nan[total_nan > 0].index  # Columnas con al menos un NaN\n",
    "for col in nan_columns:\n",
    "    print(f\"Columna: {col}, Tipo: {all_processed_data[col].dtype}, Total NaN: {total_nan[col]}\")\n",
    "\n",
    "# Excluir la columna de agrupamiento ('Mes') y calcular NaN por mes y por columna\n",
    "nan_analysis = (\n",
    "    all_processed_data.drop(columns=['Mes'])  # Excluye la columna 'Mes' si existe\n",
    "    .groupby(all_processed_data['Mes'])       # Agrupa usando la columna 'Mes'\n",
    "    .apply(lambda x: x.isnull().sum())        # Calcula NaN por columna\n",
    ")\n",
    "\n"
   ],
   "id": "50850a373b5450b3",
   "outputs": [
    {
     "name": "stdout",
     "output_type": "stream",
     "text": [
      "Cantidad total de valores NaN por columna:\n",
      "Fecha     0\n",
      "Kiteni    0\n",
      "PS#1      0\n",
      "PS#2      0\n",
      "PS#3      0\n",
      "PS#4      0\n",
      "Mes       0\n",
      "dtype: int64\n"
     ]
    }
   ],
   "execution_count": 24
  },
  {
   "metadata": {},
   "cell_type": "markdown",
   "source": [
    "# Exportar Resultados\n",
    "Guarda los datos procesados en un archivo CSV consolidado.\n"
   ],
   "id": "87f151b9ac70a1db"
  },
  {
   "metadata": {
    "ExecuteTime": {
     "end_time": "2024-12-10T16:35:16.363928Z",
     "start_time": "2024-12-10T16:35:16.357860Z"
    }
   },
   "cell_type": "code",
   "source": [
    "all_processed_data.to_csv(OUTPUT_PATH, index=False, encoding='utf-8')\n",
    "print(f\"Datos consolidados guardados en: {OUTPUT_PATH}\")\n"
   ],
   "id": "af85f9dca8b06f37",
   "outputs": [
    {
     "name": "stdout",
     "output_type": "stream",
     "text": [
      "Datos consolidados guardados en: ../data/processed/2024/pluviometros-eda-2024.csv\n"
     ]
    }
   ],
   "execution_count": 25
  },
  {
   "metadata": {},
   "cell_type": "markdown",
   "source": "# Graficos mensuales\n",
   "id": "29a06b044e173c1a"
  },
  {
   "metadata": {
    "ExecuteTime": {
     "end_time": "2024-12-10T16:35:17.598159Z",
     "start_time": "2024-12-10T16:35:16.422544Z"
    }
   },
   "cell_type": "code",
   "source": [
    "import matplotlib.pyplot as plt\n",
    "from matplotlib.backends.backend_pdf import PdfPages\n",
    "\n",
    "# Crear un archivo PDF\n",
    "OUTPUT_PATH = f\"{PROCESSED_FOLDER}/{YEAR}/graphic-pluviometros-eda-{YEAR}.pdf\"\n",
    "with PdfPages(OUTPUT_PATH) as pdf:\n",
    "    # Iterar sobre cada mes\n",
    "    for mes in range(1, 13):\n",
    "        # Filtrar los datos por mes\n",
    "        data_mes = all_processed_data[pd.to_datetime(all_processed_data['Fecha']).dt.month == mes]\n",
    "        promedios_mes = data_mes.mean(numeric_only=True)\n",
    "\n",
    "        # Crear el gráfico\n",
    "        plt.figure(figsize=(10, 6))\n",
    "        promedios_mes.plot(kind='bar')\n",
    "        plt.title(f\"Promedio de Lluvia - Mes {mes}\")\n",
    "        plt.xlabel(\"Sensores/Tramos\")\n",
    "        plt.ylabel(\"Promedio de Lluvia\")\n",
    "        plt.xticks(rotation=45)\n",
    "        plt.tight_layout()\n",
    "\n",
    "        # Guardar el gráfico en el PDF\n",
    "        pdf.savefig()  # Guarda la figura actual en el PDF\n",
    "        plt.close()  # Cierra la figura para no sobrecargar la memoria\n",
    "\n",
    "print(f\"Gráficos mensuales guardados en {OUTPUT_PATH}\")\n"
   ],
   "id": "427eff0ffdacf71f",
   "outputs": [
    {
     "name": "stdout",
     "output_type": "stream",
     "text": [
      "Gráficos mensuales guardados en ../data/processed/2024/graphic-pluviometros-eda-2024.pdf\n"
     ]
    }
   ],
   "execution_count": 26
  }
 ],
 "metadata": {
  "kernelspec": {
   "name": "python3",
   "language": "python",
   "display_name": "Python 3 (ipykernel)"
  }
 },
 "nbformat": 5,
 "nbformat_minor": 9
}
