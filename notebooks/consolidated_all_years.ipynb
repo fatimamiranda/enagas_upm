{
 "cells": [
  {
   "metadata": {},
   "cell_type": "markdown",
   "source": "# Consolidación de todos los años [2006-2024]",
   "id": "406267e8d134a931"
  },
  {
   "metadata": {
    "ExecuteTime": {
     "end_time": "2024-12-11T14:11:08.706837Z",
     "start_time": "2024-12-11T14:11:08.428369Z"
    }
   },
   "cell_type": "code",
   "source": [
    "import pandas as pd\n",
    "import os\n",
    "import glob\n",
    "\n",
    "# Ruta de la carpeta donde están los archivos sueltos\n",
    "carpeta_procesados = os.path.join(\"..\", \"data\", \"processed\")\n",
    "\n",
    "# Lista de archivos CSV a procesar\n",
    "archivos_csv = glob.glob(os.path.join(carpeta_procesados, \"*.csv\"))\n",
    "\n",
    "# Diccionario para mapear nombres de columnas a un formato estándar\n",
    "mapeo_columnas = {\n",
    "    'Fecha': 'FECHA',\n",
    "    'KITENI': 'KITENI',\n",
    "    'Kiteni': 'KITENI',\n",
    "    'PS-1': 'PS#1',\n",
    "    'PS-2': 'PS#2',\n",
    "    'PS-3': 'PS#3',\n",
    "    'PS-4': 'PS#4',\n",
    "    'Base Operativa Kiteni': 'KITENI'\n",
    "}\n",
    "\n",
    "# Crear una lista para almacenar los dataframes procesados\n",
    "dataframes = []\n",
    "\n",
    "# Procesar cada archivo CSV\n",
    "for ruta_archivo in archivos_csv:\n",
    "    try:\n",
    "        # Leer el archivo CSV\n",
    "        df = pd.read_csv(ruta_archivo)\n",
    "\n",
    "        # Renombrar las columnas según el mapeo\n",
    "        df.rename(columns=mapeo_columnas, inplace=True)\n",
    "\n",
    "        # Eliminar las columnas 'Horas' y 'Num' si existen\n",
    "        for columna in ['Horas', 'Num']:\n",
    "            if columna in df.columns:\n",
    "                df.drop(columns=[columna], inplace=True)\n",
    "\n",
    "        # Asegurar que las columnas Año, Mes y Día estén presentes\n",
    "        if 'FECHA' in df.columns:\n",
    "            df['FECHA'] = pd.to_datetime(df['FECHA'], errors='coerce')\n",
    "\n",
    "            if 'Año' not in df.columns:\n",
    "                df['Año'] = df['FECHA'].dt.year\n",
    "            if 'Mes' not in df.columns:\n",
    "                df['Mes'] = df['FECHA'].dt.month\n",
    "            if 'Día' not in df.columns:\n",
    "                df['Día'] = df['FECHA'].dt.day\n",
    "\n",
    "        # Rellenar FECHA usando Año, Mes y Día si está vacía\n",
    "        if 'FECHA' not in df.columns or df['FECHA'].isnull().all():\n",
    "            if {'Año', 'Mes', 'Día'}.issubset(df.columns):\n",
    "                df['FECHA'] = pd.to_datetime(\n",
    "                    df[['Año', 'Mes', 'Día']].astype(str).agg('-'.join, axis=1),\n",
    "                    format='%Y-%m-%d',  # Especificar el formato explícitamente\n",
    "                    errors='coerce'\n",
    "                )\n",
    "\n",
    "        # Asegurar que las columnas Año, Mes y Día sean enteros\n",
    "        for columna in ['Año', 'Mes', 'Día']:\n",
    "            if columna in df.columns:\n",
    "                df[columna] = df[columna].fillna(0).astype(int)\n",
    "\n",
    "        # Añadir el dataframe procesado a la lista\n",
    "        dataframes.append(df)\n",
    "        print(f\"Archivo procesado: {os.path.basename(ruta_archivo)}\")\n",
    "    except Exception as e:\n",
    "        print(f\"Error procesando el archivo {ruta_archivo}: {e}\")\n",
    "\n",
    "# Consolidar todos los dataframes\n",
    "if dataframes:\n",
    "    try:\n",
    "        # Concatenar todos los DataFrames\n",
    "        df_consolidado = pd.concat(dataframes, ignore_index=True)\n",
    "\n",
    "        # Asegurar que Año, Mes y Día sean enteros en el consolidado final\n",
    "        for columna in ['Año', 'Mes', 'Día']:\n",
    "            if columna in df_consolidado.columns:\n",
    "                df_consolidado[columna] = df_consolidado[columna].fillna(0).astype(int)\n",
    "\n",
    "        # Generar la columna FECHA si aún no está completa\n",
    "        if 'FECHA' not in df_consolidado.columns or df_consolidado['FECHA'].isnull().any():\n",
    "            df_consolidado['FECHA'] = pd.to_datetime(\n",
    "                df_consolidado[['Año', 'Mes', 'Día']].astype(str).agg('-'.join, axis=1),\n",
    "                format='%Y-%m-%d',  # Especificar el formato explícitamente\n",
    "                errors='coerce'\n",
    "            )\n",
    "\n",
    "        # Guardar el archivo consolidado\n",
    "        ruta_salida = os.path.join(carpeta_procesados, \"data_consolidado.csv\")\n",
    "        df_consolidado.to_csv(ruta_salida, index=False)\n",
    "        print(f\"Archivo consolidado guardado en: {ruta_salida}\")\n",
    "    except Exception as e:\n",
    "        print(f\"Error procesando el archivo consolidado: {e}\")\n",
    "else:\n",
    "    print(\"No se encontraron datos para consolidar.\")\n"
   ],
   "id": "d367282caca34178",
   "outputs": [
    {
     "name": "stdout",
     "output_type": "stream",
     "text": [
      "Archivo procesado: data2006-2010.csv\n",
      "Archivo procesado: data2011-2015.csv\n",
      "Archivo procesado: data2016-2019.csv\n",
      "Archivo procesado: data2020-2024.csv\n",
      "Archivo procesado: data_consolidado.csv\n",
      "Archivo consolidado guardado en: ..\\data\\processed\\data_consolidado.csv\n"
     ]
    }
   ],
   "execution_count": 7
  },
  {
   "metadata": {
    "ExecuteTime": {
     "end_time": "2024-12-11T14:11:08.718224Z",
     "start_time": "2024-12-11T14:11:08.711845Z"
    }
   },
   "cell_type": "code",
   "source": [
    "\n",
    "# Recuento por año\n",
    "if 'Año' in df_consolidado.columns:\n",
    "    recuento_por_anio = df_consolidado.groupby('Año').size().reset_index(name='Recuento')\n",
    "    print(\"Recuento de filas por año:\")\n",
    "    print(recuento_por_anio)\n",
    "else:\n",
    "    print(\"La columna 'Año' no existe en el DataFrame consolidado.\")\n",
    "\n"
   ],
   "id": "98aa209de461ea16",
   "outputs": [
    {
     "name": "stdout",
     "output_type": "stream",
     "text": [
      "Recuento de filas por año:\n",
      "     Año  Recuento\n",
      "0      0      1471\n",
      "1   2006      1825\n",
      "2   2007      1092\n",
      "3   2008      1830\n",
      "4   2009      1825\n",
      "5   2010      1095\n",
      "6   2011      1825\n",
      "7   2012      1830\n",
      "8   2013      1825\n",
      "9   2014      1825\n",
      "10  2015      1825\n",
      "11  2016      1830\n",
      "12  2017      1825\n",
      "13  2018      1825\n",
      "14  2019      1825\n",
      "15  2020      1830\n",
      "16  2021      1773\n",
      "17  2022       465\n",
      "18  2023      1860\n",
      "19  2024      1675\n"
     ]
    }
   ],
   "execution_count": 8
  },
  {
   "metadata": {
    "ExecuteTime": {
     "end_time": "2024-12-11T14:11:08.786329Z",
     "start_time": "2024-12-11T14:11:08.756913Z"
    }
   },
   "cell_type": "code",
   "source": [
    "# Crear un rango completo de fechas desde la mínima hasta la máxima en el DataFrame\n",
    "rango_fechas = pd.date_range(start=df_consolidado['FECHA'].min(), end=df_consolidado['FECHA'].max())\n",
    "\n",
    "# Detectar fechas reales\n",
    "fechas_reales = set(df_consolidado['FECHA'].dropna())\n",
    "\n",
    "# Detectar fechas faltantes\n",
    "fechas_faltantes = sorted(set(rango_fechas) - fechas_reales)\n",
    "\n",
    "# Crear un DataFrame de fechas faltantes\n",
    "fechas_faltantes_df = pd.DataFrame(fechas_faltantes, columns=['FECHA'])\n",
    "fechas_faltantes_df['Año'] = fechas_faltantes_df['FECHA'].dt.year\n",
    "fechas_faltantes_df['Mes'] = fechas_faltantes_df['FECHA'].dt.month\n",
    "\n",
    "# Agrupar por año y mes para obtener el recuento de faltantes\n",
    "recuento_por_anio_mes = fechas_faltantes_df.groupby(['Año', 'Mes']).size().reset_index(name='Faltantes')\n",
    "\n",
    "# Mostrar el recuento\n",
    "print(\"Recuento de fechas faltantes por año y mes:\")\n",
    "print(recuento_por_anio_mes)\n"
   ],
   "id": "6213a3c23f55a668",
   "outputs": [
    {
     "name": "stdout",
     "output_type": "stream",
     "text": [
      "Recuento de fechas faltantes por año y mes:\n",
      "     Año  Mes  Faltantes\n",
      "0   2007    7          1\n",
      "1   2010    5          1\n",
      "2   2010    6          2\n",
      "3   2016   12         30\n",
      "4   2017   12         30\n",
      "5   2022    1         31\n",
      "6   2022    2         28\n",
      "7   2022    3         31\n",
      "8   2022    4         30\n",
      "9   2022    5         31\n",
      "10  2022    6         30\n",
      "11  2022    7         31\n",
      "12  2022    8         31\n",
      "13  2022    9         30\n"
     ]
    }
   ],
   "execution_count": 9
  }
 ],
 "metadata": {
  "kernelspec": {
   "display_name": "Python 3",
   "language": "python",
   "name": "python3"
  },
  "language_info": {
   "codemirror_mode": {
    "name": "ipython",
    "version": 2
   },
   "file_extension": ".py",
   "mimetype": "text/x-python",
   "name": "python",
   "nbconvert_exporter": "python",
   "pygments_lexer": "ipython2",
   "version": "2.7.6"
  }
 },
 "nbformat": 4,
 "nbformat_minor": 5
}
