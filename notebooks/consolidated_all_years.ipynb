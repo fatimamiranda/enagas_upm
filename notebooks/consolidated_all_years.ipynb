{
 "cells": [
  {
   "metadata": {},
   "cell_type": "markdown",
   "source": "# Consolidación de todos los años [2006-2024]",
   "id": "406267e8d134a931"
  },
  {
   "metadata": {
    "ExecuteTime": {
     "end_time": "2024-12-11T05:16:34.993872Z",
     "start_time": "2024-12-11T05:16:34.251240Z"
    }
   },
   "cell_type": "code",
   "source": [
    "import pandas as pd\n",
    "import os\n",
    "import glob\n",
    "\n",
    "# Ruta de la carpeta donde están los archivos sueltos\n",
    "carpeta_procesados = os.path.join(\"..\", \"data\", \"processed\")\n",
    "ruta_salida = os.path.join(carpeta_procesados, \"data_consolidado.csv\")\n",
    "\n",
    "# Lista para almacenar los dataframes\n",
    "dataframes = []\n",
    "\n",
    "# Buscar todos los archivos CSV directamente dentro de \"processed\" (ignorar subcarpetas)\n",
    "archivos_csv = glob.glob(os.path.join(carpeta_procesados, \"*.csv\"))\n",
    "\n",
    "# Iterar por cada archivo CSV encontrado\n",
    "for ruta_archivo in archivos_csv:\n",
    "    try:\n",
    "        # Leer el archivo CSV\n",
    "        print(f\"Procesando archivo: {ruta_archivo}\")\n",
    "        df = pd.read_csv(ruta_archivo)\n",
    "\n",
    "        # Si el archivo tiene datos, agregar al dataframe\n",
    "        dataframes.append(df)\n",
    "    except Exception as e:\n",
    "        print(f\"Error procesando el archivo {ruta_archivo}: {e}\")\n",
    "\n",
    "# Verificar si hay dataframes para consolidar\n",
    "if dataframes:\n",
    "    # Concatenar todos los dataframes\n",
    "    df_consolidado = pd.concat(dataframes, ignore_index=True)\n",
    "\n",
    "    # Guardar el archivo consolidado en un nuevo CSV\n",
    "    df_consolidado.to_csv(ruta_salida, index=False)\n",
    "    print(f\"Archivo consolidado guardado en: {ruta_salida}\")\n",
    "else:\n",
    "    print(\"No se encontraron archivos CSV para consolidar.\")\n"
   ],
   "id": "d367282caca34178",
   "outputs": [
    {
     "name": "stdout",
     "output_type": "stream",
     "text": [
      "Procesando archivo: ..\\data\\processed\\data2006-2010.csv\n",
      "Procesando archivo: ..\\data\\processed\\data2011-2015.csv\n",
      "Procesando archivo: ..\\data\\processed\\data2016-2019.csv\n",
      "Procesando archivo: ..\\data\\processed\\data2020-2024.csv\n",
      "Archivo consolidado guardado en: ..\\data\\processed\\data_consolidado.csv\n"
     ]
    }
   ],
   "execution_count": 1
  },
  {
   "metadata": {
    "ExecuteTime": {
     "end_time": "2024-12-11T05:24:20.424545Z",
     "start_time": "2024-12-11T05:24:20.389011Z"
    }
   },
   "cell_type": "code",
   "source": [
    "# listar nombres de las columnas de los datos consolidados\n",
    "df_consolidado = pd.read_csv(ruta_salida)\n",
    "df_consolidado.info()\n"
   ],
   "id": "cea8157f6b98e0b",
   "outputs": [
    {
     "name": "stdout",
     "output_type": "stream",
     "text": [
      "<class 'pandas.core.frame.DataFrame'>\n",
      "RangeIndex: 6614 entries, 0 to 6613\n",
      "Data columns (total 18 columns):\n",
      " #   Column                 Non-Null Count  Dtype  \n",
      "---  ------                 --------------  -----  \n",
      " 0   FECHA                  3651 non-null   object \n",
      " 1   KITENI                 3651 non-null   float64\n",
      " 2   PS#1                   5153 non-null   float64\n",
      " 3   PS#2                   5152 non-null   float64\n",
      " 4   PS#3                   5153 non-null   float64\n",
      " 5   PS#4                   5153 non-null   float64\n",
      " 6   Num                    1461 non-null   float64\n",
      " 7   Año                    2963 non-null   float64\n",
      " 8   Mes                    2963 non-null   float64\n",
      " 9   Día                    1461 non-null   float64\n",
      " 10  Horas                  1461 non-null   object \n",
      " 11  Base Operativa Kiteni  1461 non-null   float64\n",
      " 12  PS-1                   1461 non-null   float64\n",
      " 13  PS-2                   1461 non-null   float64\n",
      " 14  PS-3                   1461 non-null   float64\n",
      " 15  PS-4                   1461 non-null   float64\n",
      " 16  Fecha                  1502 non-null   object \n",
      " 17  Kiteni                 1502 non-null   float64\n",
      "dtypes: float64(15), object(3)\n",
      "memory usage: 930.2+ KB\n",
      "Inconsistencias encontradas:\n",
      "Columna 'KITENI' tiene inconsistencias en los años: [2017.0, 2018.0, 2019.0, 2020.0, 2021.0, 2022.0, 2023.0, 2024.0]\n",
      "Columna 'PS#1' tiene inconsistencias en los años: [2017.0, 2018.0, 2019.0, 2020.0, 2021.0, 2022.0, 2023.0, 2024.0]\n",
      "Columna 'PS#2' tiene inconsistencias en los años: [2017.0, 2018.0, 2019.0, 2020.0, 2021.0, 2022.0, 2023.0, 2024.0]\n",
      "Columna 'PS#3' tiene inconsistencias en los años: [2017.0, 2018.0, 2019.0, 2020.0, 2021.0, 2022.0, 2023.0, 2024.0]\n",
      "Columna 'PS#4' tiene inconsistencias en los años: [2017.0, 2018.0, 2019.0, 2020.0, 2021.0, 2022.0, 2023.0, 2024.0]\n",
      "Columna 'Num' tiene inconsistencias en los años: [2017.0, 2018.0, 2019.0, 2020.0, 2021.0, 2022.0, 2023.0, 2024.0]\n",
      "Columna 'Año' tiene inconsistencias en los años: [2017.0, 2018.0, 2019.0, 2020.0, 2021.0, 2022.0, 2023.0, 2024.0]\n",
      "Columna 'Mes' tiene inconsistencias en los años: [2022.0, 2024.0]\n",
      "Columna 'Día' tiene inconsistencias en los años: [2020.0, 2021.0, 2022.0, 2023.0, 2024.0]\n",
      "Columna 'Horas' tiene inconsistencias en los años: [2017.0, 2018.0, 2019.0, 2020.0, 2021.0, 2022.0, 2023.0, 2024.0]\n",
      "Columna 'Base Operativa Kiteni' tiene inconsistencias en los años: [2017.0, 2018.0, 2019.0, 2020.0, 2021.0, 2022.0, 2023.0, 2024.0]\n",
      "Columna 'PS-1' tiene inconsistencias en los años: [2017.0, 2018.0, 2019.0, 2020.0, 2021.0, 2022.0, 2023.0, 2024.0]\n",
      "Columna 'PS-2' tiene inconsistencias en los años: [2017.0, 2018.0, 2019.0, 2020.0, 2021.0, 2022.0, 2023.0, 2024.0]\n",
      "Columna 'PS-3' tiene inconsistencias en los años: [2017.0, 2018.0, 2019.0, 2020.0, 2021.0, 2022.0, 2023.0, 2024.0]\n",
      "Columna 'PS-4' tiene inconsistencias en los años: [2017.0, 2018.0, 2019.0, 2020.0, 2021.0, 2022.0, 2023.0, 2024.0]\n",
      "Columna 'Fecha' tiene inconsistencias en los años: [2020.0, 2021.0, 2022.0, 2023.0, 2024.0]\n",
      "Columna 'Kiteni' tiene inconsistencias en los años: [2017.0, 2018.0, 2019.0, 2020.0, 2021.0, 2022.0, 2023.0, 2024.0]\n"
     ]
    }
   ],
   "execution_count": 4
  },
  {
   "metadata": {
    "ExecuteTime": {
     "end_time": "2024-12-11T05:26:03.731357Z",
     "start_time": "2024-12-11T05:26:03.699927Z"
    }
   },
   "cell_type": "code",
   "source": [
    "import pandas as pd\n",
    "import os\n",
    "import glob\n",
    "\n",
    "# Ruta de la carpeta donde están los archivos sueltos\n",
    "carpeta_procesados = os.path.join(\"..\", \"data\", \"processed\")\n",
    "\n",
    "# Lista de archivos CSV a procesar\n",
    "archivos_csv = glob.glob(os.path.join(carpeta_procesados, \"*.csv\"))\n",
    "\n",
    "# Crear un diccionario para almacenar columnas por archivo\n",
    "columnas_por_archivo = {}\n",
    "\n",
    "# Iterar por cada archivo CSV\n",
    "for ruta_archivo in archivos_csv:\n",
    "    try:\n",
    "        # Leer el archivo CSV\n",
    "        df = pd.read_csv(ruta_archivo)\n",
    "\n",
    "        # Registrar las columnas del archivo\n",
    "        columnas_por_archivo[os.path.basename(ruta_archivo)] = list(df.columns)\n",
    "    except Exception as e:\n",
    "        print(f\"Error procesando el archivo {ruta_archivo}: {e}\")\n",
    "\n",
    "# Comparar las columnas del dataframe consolidado con las de cada archivo\n",
    "columnas_en_consolidado = df_consolidado.columns\n",
    "reporte_columnas = {}\n",
    "\n",
    "for columna in columnas_en_consolidado:\n",
    "    archivos_con_columna = []\n",
    "    for archivo, columnas in columnas_por_archivo.items():\n",
    "        if columna in columnas:\n",
    "            archivos_con_columna.append(archivo)\n",
    "    reporte_columnas[columna] = archivos_con_columna\n",
    "\n",
    "# Mostrar el reporte de columnas y sus archivos de origen\n",
    "for columna, archivos in reporte_columnas.items():\n",
    "    print(f\"Columna '{columna}' se encuentra en los archivos: {archivos}\")\n"
   ],
   "id": "34414760fc6b6ae1",
   "outputs": [
    {
     "name": "stdout",
     "output_type": "stream",
     "text": [
      "Columna 'FECHA' se encuentra en los archivos: ['data2006-2010.csv', 'data2011-2015.csv', 'data_consolidado.csv']\n",
      "Columna 'KITENI' se encuentra en los archivos: ['data2006-2010.csv', 'data2011-2015.csv', 'data_consolidado.csv']\n",
      "Columna 'PS#1' se encuentra en los archivos: ['data2006-2010.csv', 'data2011-2015.csv', 'data2020-2024.csv', 'data_consolidado.csv']\n",
      "Columna 'PS#2' se encuentra en los archivos: ['data2006-2010.csv', 'data2011-2015.csv', 'data2020-2024.csv', 'data_consolidado.csv']\n",
      "Columna 'PS#3' se encuentra en los archivos: ['data2006-2010.csv', 'data2011-2015.csv', 'data2020-2024.csv', 'data_consolidado.csv']\n",
      "Columna 'PS#4' se encuentra en los archivos: ['data2006-2010.csv', 'data2011-2015.csv', 'data2020-2024.csv', 'data_consolidado.csv']\n",
      "Columna 'Num' se encuentra en los archivos: ['data2016-2019.csv', 'data_consolidado.csv']\n",
      "Columna 'Año' se encuentra en los archivos: ['data2016-2019.csv', 'data2020-2024.csv', 'data_consolidado.csv']\n",
      "Columna 'Mes' se encuentra en los archivos: ['data2016-2019.csv', 'data2020-2024.csv', 'data_consolidado.csv']\n",
      "Columna 'Día' se encuentra en los archivos: ['data2016-2019.csv', 'data_consolidado.csv']\n",
      "Columna 'Horas' se encuentra en los archivos: ['data2016-2019.csv', 'data_consolidado.csv']\n",
      "Columna 'Base Operativa Kiteni' se encuentra en los archivos: ['data2016-2019.csv', 'data_consolidado.csv']\n",
      "Columna 'PS-1' se encuentra en los archivos: ['data2016-2019.csv', 'data_consolidado.csv']\n",
      "Columna 'PS-2' se encuentra en los archivos: ['data2016-2019.csv', 'data_consolidado.csv']\n",
      "Columna 'PS-3' se encuentra en los archivos: ['data2016-2019.csv', 'data_consolidado.csv']\n",
      "Columna 'PS-4' se encuentra en los archivos: ['data2016-2019.csv', 'data_consolidado.csv']\n",
      "Columna 'Fecha' se encuentra en los archivos: ['data2020-2024.csv', 'data_consolidado.csv']\n",
      "Columna 'Kiteni' se encuentra en los archivos: ['data2020-2024.csv', 'data_consolidado.csv']\n"
     ]
    }
   ],
   "execution_count": 5
  },
  {
   "metadata": {},
   "cell_type": "code",
   "outputs": [],
   "execution_count": null,
   "source": "",
   "id": "9e5e39bf626011f9"
  }
 ],
 "metadata": {
  "kernelspec": {
   "display_name": "Python 3",
   "language": "python",
   "name": "python3"
  },
  "language_info": {
   "codemirror_mode": {
    "name": "ipython",
    "version": 2
   },
   "file_extension": ".py",
   "mimetype": "text/x-python",
   "name": "python",
   "nbconvert_exporter": "python",
   "pygments_lexer": "ipython2",
   "version": "2.7.6"
  }
 },
 "nbformat": 4,
 "nbformat_minor": 5
}
