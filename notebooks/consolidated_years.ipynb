{
 "cells": [
  {
   "metadata": {},
   "cell_type": "markdown",
   "source": "# Consolidación de los años [2020-2024]",
   "id": "406267e8d134a931"
  },
  {
   "cell_type": "code",
   "id": "initial_id",
   "metadata": {
    "collapsed": true,
    "ExecuteTime": {
     "end_time": "2024-12-11T05:02:52.381070Z",
     "start_time": "2024-12-11T05:02:52.313337Z"
    }
   },
   "source": [
    "import pandas as pd\n",
    "import os\n",
    "\n",
    "# Base de la ruta donde están los archivos por año\n",
    "base_ruta = os.path.join(\"..\", \"data\", \"processed\", \"{YEAR}\")\n",
    "output_ruta = os.path.join(\"..\", \"data\", \"processed\", \"data2020-2024.csv\")\n",
    "# Lista de años a procesar\n",
    "anios = [2020, 2021, 2022, 2023, 2024]\n",
    "\n",
    "# Lista para almacenar los dataframes\n",
    "dataframes = []\n",
    "\n",
    "# Iterar por cada año\n",
    "for anio in anios:\n",
    "    # Crear la ruta del archivo para el año actual\n",
    "    ruta_archivo = os.path.join(base_ruta.format(YEAR=anio), f\"pluviometros-eda-{anio}.csv\")\n",
    "    try:\n",
    "        # Leer el archivo CSV\n",
    "        print(f\"Procesando archivo: {ruta_archivo}\")\n",
    "        df = pd.read_csv(ruta_archivo)\n",
    "        # Agregar una columna \"Año\" al dataframe\n",
    "        df['Año'] = anio\n",
    "        # Añadir el dataframe a la lista\n",
    "        dataframes.append(df)\n",
    "    except FileNotFoundError:\n",
    "        print(f\"Archivo no encontrado para el año {anio}: {ruta_archivo}\")\n",
    "    except Exception as e:\n",
    "        print(f\"Error procesando el archivo {ruta_archivo}: {e}\")\n",
    "\n",
    "# Verificar si hay dataframes para consolidar\n",
    "if dataframes:\n",
    "    # Concatenar todos los dataframes\n",
    "    df_consolidado = pd.concat(dataframes, ignore_index=True)\n",
    "\n",
    "    # Guardar el archivo consolidado en un nuevo CSV\n",
    "    ruta_salida = os.path.join(\"..\",\"data\", \"processed\", \"data2020-2024.csv\")\n",
    "    df_consolidado.to_csv(ruta_salida, index=False)\n",
    "\n",
    "    print(f\"Archivo consolidado guardado en: {ruta_salida}\")\n",
    "else:\n",
    "    print(\"No se encontraron archivos para consolidar.\")\n"
   ],
   "outputs": [
    {
     "name": "stdout",
     "output_type": "stream",
     "text": [
      "Procesando archivo: ..\\data\\processed\\2020\\pluviometros-eda-2020.csv\n",
      "Procesando archivo: ..\\data\\processed\\2021\\pluviometros-eda-2021.csv\n",
      "Procesando archivo: ..\\data\\processed\\2022\\pluviometros-eda-2022.csv\n",
      "Procesando archivo: ..\\data\\processed\\2023\\pluviometros-eda-2023.csv\n",
      "Procesando archivo: ..\\data\\processed\\2024\\pluviometros-eda-2024.csv\n",
      "Archivo consolidado guardado en: ..\\data\\processed\\data2020-2024.csv\n"
     ]
    }
   ],
   "execution_count": 12
  },
  {
   "metadata": {
    "ExecuteTime": {
     "end_time": "2024-12-11T05:02:52.278996900Z",
     "start_time": "2024-12-10T17:05:58.037158Z"
    }
   },
   "cell_type": "code",
   "source": [
    "# Leer el archivo consolidado\n",
    "df_consolidado = pd.read_csv(output_ruta)\n",
    "df_consolidado.info()\n",
    "df_consolidado.head()\n",
    "# Verificar si hay valores faltantes\n",
    "print(df_consolidado.isnull().sum())\n",
    "# Verificar si hay duplicados\n",
    "print(df_consolidado.duplicated().sum())\n"
   ],
   "id": "b0f3b2938d0a4cb0",
   "outputs": [
    {
     "name": "stdout",
     "output_type": "stream",
     "text": [
      "<class 'pandas.core.frame.DataFrame'>\n",
      "RangeIndex: 1502 entries, 0 to 1501\n",
      "Data columns (total 8 columns):\n",
      " #   Column  Non-Null Count  Dtype  \n",
      "---  ------  --------------  -----  \n",
      " 0   Fecha   1502 non-null   object \n",
      " 1   Kiteni  1502 non-null   float64\n",
      " 2   PS#1    1502 non-null   float64\n",
      " 3   PS#2    1502 non-null   float64\n",
      " 4   PS#3    1502 non-null   float64\n",
      " 5   PS#4    1502 non-null   float64\n",
      " 6   Mes     1502 non-null   int64  \n",
      " 7   Año     1502 non-null   int64  \n",
      "dtypes: float64(5), int64(2), object(1)\n",
      "memory usage: 94.0+ KB\n",
      "Fecha     0\n",
      "Kiteni    0\n",
      "PS#1      0\n",
      "PS#2      0\n",
      "PS#3      0\n",
      "PS#4      0\n",
      "Mes       0\n",
      "Año       0\n",
      "dtype: int64\n",
      "1\n"
     ]
    }
   ],
   "execution_count": 10
  },
  {
   "metadata": {
    "ExecuteTime": {
     "end_time": "2024-12-11T05:02:52.310363400Z",
     "start_time": "2024-12-10T17:05:58.081722Z"
    }
   },
   "cell_type": "code",
   "source": [
    "# Mostrar resumen general de NaN por columna\n",
    "# Mostrar cantidad total de NaN por columna\n",
    "print(\"Cantidad total de valores NaN por columna:\")\n",
    "total_nan = df_consolidado.isnull().sum()\n",
    "print(total_nan)\n",
    "\n",
    "# Identificar columnas con valores NaN y su tipo de dato\n",
    "print(\"\\nColumnas con valores NaN y sus tipos:\")\n",
    "nan_columns = total_nan[total_nan > 0].index  # Columnas con al menos un NaN\n",
    "for col in nan_columns:\n",
    "    print(f\"Columna: {col}, Tipo: {df_consolidado[col].dtype}, Total NaN: {total_nan[col]}\")\n",
    "\n",
    "# Analizar NaN por mes y por columna\n",
    "# Excluir la columna de agrupamiento ('Mes') y calcular NaN por mes y por columna\n",
    "print(\"\\nCantidad de NaN por mes y por columna:\")\n",
    "nan_analysis = (\n",
    "    df_consolidado.drop(columns=['Mes'])  # Excluye la columna 'Mes' si existe\n",
    "    .groupby(df_consolidado['Mes'])       # Agrupa usando la columna 'Mes'\n",
    "    .apply(lambda x: x.isnull().sum())        # Calcula NaN por columna\n",
    ")\n",
    "print(nan_analysis)\n"
   ],
   "id": "b5491e48bcb0e2f7",
   "outputs": [
    {
     "name": "stdout",
     "output_type": "stream",
     "text": [
      "Cantidad total de valores NaN por columna:\n",
      "Fecha     0\n",
      "Kiteni    0\n",
      "PS#1      0\n",
      "PS#2      0\n",
      "PS#3      0\n",
      "PS#4      0\n",
      "Mes       0\n",
      "Año       0\n",
      "dtype: int64\n",
      "\n",
      "Columnas con valores NaN y sus tipos:\n",
      "\n",
      "Cantidad de NaN por mes y por columna:\n",
      "     Fecha  Kiteni  PS#1  PS#2  PS#3  PS#4  Año\n",
      "Mes                                            \n",
      "1        0       0     0     0     0     0    0\n",
      "2        0       0     0     0     0     0    0\n",
      "3        0       0     0     0     0     0    0\n",
      "4        0       0     0     0     0     0    0\n",
      "5        0       0     0     0     0     0    0\n",
      "6        0       0     0     0     0     0    0\n",
      "7        0       0     0     0     0     0    0\n",
      "8        0       0     0     0     0     0    0\n",
      "9        0       0     0     0     0     0    0\n",
      "10       0       0     0     0     0     0    0\n",
      "11       0       0     0     0     0     0    0\n",
      "12       0       0     0     0     0     0    0\n"
     ]
    }
   ],
   "execution_count": 11
  }
 ],
 "metadata": {
  "kernelspec": {
   "display_name": "Python 3",
   "language": "python",
   "name": "python3"
  },
  "language_info": {
   "codemirror_mode": {
    "name": "ipython",
    "version": 2
   },
   "file_extension": ".py",
   "mimetype": "text/x-python",
   "name": "python",
   "nbconvert_exporter": "python",
   "pygments_lexer": "ipython2",
   "version": "2.7.6"
  }
 },
 "nbformat": 4,
 "nbformat_minor": 5
}
