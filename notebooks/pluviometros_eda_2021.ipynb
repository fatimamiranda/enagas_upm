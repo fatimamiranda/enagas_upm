{
 "cells": [
  {
   "metadata": {},
   "cell_type": "markdown",
   "source": [
    "# Configuración Inicial\n",
    "Este bloque configura las rutas, variables y estructuras necesarias para procesar los datos.\n"
   ],
   "id": "7add8aeb579bb316"
  },
  {
   "metadata": {
    "ExecuteTime": {
     "end_time": "2024-12-11T13:53:22.017657Z",
     "start_time": "2024-12-11T13:53:21.421767Z"
    }
   },
   "cell_type": "code",
   "source": [
    "import os\n",
    "import pandas as pd\n",
    "import re\n",
    "\n",
    "# Configuración general\n",
    "YEAR = 2021\n",
    "RAW_FOLDER = \"../data/raw\"\n",
    "PROCESSED_FOLDER = \"../data/processed\"\n",
    "FILE_PATH_XLSX = f\"{RAW_FOLDER}/data_{YEAR}.xlsx\"\n",
    "FILE_PATH_XLSB = f\"{RAW_FOLDER}/data_{YEAR}.xlsb\"\n",
    "OUTPUT_PATH = f\"{PROCESSED_FOLDER}/{YEAR}/pluviometros-eda-{YEAR}.csv\"\n"
   ],
   "id": "a8715cf760b657c4",
   "outputs": [],
   "execution_count": 1
  },
  {
   "metadata": {
    "ExecuteTime": {
     "end_time": "2024-12-11T13:53:22.029839Z",
     "start_time": "2024-12-11T13:53:22.025678Z"
    }
   },
   "cell_type": "code",
   "source": [
    "\n",
    "# Mapeo de columnas\n",
    "COLUMN_MAPPING = {\n",
    "    'Fecha': ['Fecha', 'Date', 'Día', 'Dia'],\n",
    "    'Kiteni': ['Base Operativa Kiteni', 'Kiteni', 'Obrador Kiteni'],\n",
    "    'PS#1': ['PS1', 'PS#1', 'PS-1'],\n",
    "    'PS#2': ['PS2', 'PS#2','PS-2', 'Planta de Selección #2'],\n",
    "    'PS#3': ['PS3', 'PS#3',  'PS-3', 'Planta de Selección #3'],\n",
    "    'PS#4': ['PS-4', 'PS#4/XV10007']\n",
    "}\n"
   ],
   "id": "42c0da71886c182f",
   "outputs": [],
   "execution_count": 2
  },
  {
   "metadata": {},
   "cell_type": "markdown",
   "source": [
    "# Funciones Auxiliares\n",
    "Este bloque contiene las funciones necesarias para procesar los datos:\n",
    "1. Detección de encabezados.\n",
    "2. Identificación de columnas relevantes.\n",
    "3. Manejo de valores faltantes (`NaNs`).\n",
    "4. Agregar información sobre rupturas.\n",
    "5. Identificar outliers.\n"
   ],
   "id": "6eb59fa44e1fb5d2"
  },
  {
   "metadata": {
    "ExecuteTime": {
     "end_time": "2024-12-11T13:53:22.040606Z",
     "start_time": "2024-12-11T13:53:22.035345Z"
    }
   },
   "cell_type": "code",
   "source": [
    "def detect_header_row(df, max_rows=15):\n",
    "    \"\"\"Detecta la fila que contiene los encabezados reales.\"\"\"\n",
    "    for row in range(max_rows):\n",
    "        possible_header = df.iloc[row].values\n",
    "        if any(isinstance(val, str) and len(val.strip()) > 0 for val in possible_header):\n",
    "            return row\n",
    "    return 0  # Si no se detecta, usar la primera fila\n",
    "\n",
    "def detect_relevant_columns(df, column_mapping):\n",
    "    \"\"\"Detecta columnas relevantes basadas en nombres similares.\"\"\"\n",
    "    detected_columns = {}\n",
    "    for expected_col, possible_names in column_mapping.items():\n",
    "        for col in df.columns:\n",
    "            if any(re.search(rf\"\\b{re.escape(name)}\\b\", str(col), re.IGNORECASE) for name in possible_names):\n",
    "                detected_columns[expected_col] = col\n",
    "                break\n",
    "    return detected_columns\n",
    "\n",
    "def handle_missing_values(df, method='global_mean', monthly_averages=None):\n",
    "    \"\"\"Reemplaza NaNs con el promedio por columna (global o mensual).\"\"\"\n",
    "    for col in df.columns:\n",
    "        if col != 'Fecha':\n",
    "            if method == 'global_mean':\n",
    "                # Promedio global por columna\n",
    "                mean_value = df[col].replace(0, pd.NA).mean(skipna=True)\n",
    "                df[col] = df[col].fillna(mean_value)\n",
    "            elif method == 'monthly_mean' and monthly_averages is not None:\n",
    "                # Promedio mensual basado en datos disponibles\n",
    "                df['Mes'] = pd.to_datetime(df['Fecha']).dt.month\n",
    "                df[col] = df.apply(\n",
    "                    lambda row: monthly_averages.loc[row['Mes'], col]\n",
    "                    if pd.isnull(row[col]) else row[col], axis=1\n",
    "                )\n",
    "    return df\n"
   ],
   "id": "9f2c6c0e004889d7",
   "outputs": [],
   "execution_count": 3
  },
  {
   "metadata": {},
   "cell_type": "markdown",
   "source": [
    "# Carga de Datos\n",
    "Este bloque carga los datos desde el archivo Excel y consolida todas las hojas.\n"
   ],
   "id": "ab6741fb956ee547"
  },
  {
   "metadata": {
    "ExecuteTime": {
     "end_time": "2024-12-11T13:53:22.359667Z",
     "start_time": "2024-12-11T13:53:22.047139Z"
    }
   },
   "cell_type": "code",
   "source": [
    "if os.path.exists(FILE_PATH_XLSX):\n",
    "    file_path, engine = FILE_PATH_XLSX, None\n",
    "elif os.path.exists(FILE_PATH_XLSB):\n",
    "    file_path, engine = FILE_PATH_XLSB, 'pyxlsb'\n",
    "else:\n",
    "    raise FileNotFoundError(f\"No se encontró archivo para el año {YEAR}\")\n",
    "\n",
    "excel_data = pd.ExcelFile(file_path, engine=engine)\n",
    "sheet_names = excel_data.sheet_names\n",
    "print(f\"Hojas disponibles: {sheet_names}\")"
   ],
   "id": "1bc543dcb18abd1f",
   "outputs": [
    {
     "name": "stdout",
     "output_type": "stream",
     "text": [
      "Hojas disponibles: ['ENE', 'FEB', 'MAR', 'ABR', 'MAY', 'JUN', 'JUL', 'AGO', 'SEP', 'OCT', 'NOV', 'DIC']\n"
     ]
    }
   ],
   "execution_count": 4
  },
  {
   "metadata": {
    "ExecuteTime": {
     "end_time": "2024-12-11T13:53:24.180313Z",
     "start_time": "2024-12-11T13:53:24.107099Z"
    }
   },
   "cell_type": "code",
   "source": [
    "all_processed_data = pd.DataFrame()\n",
    "\n",
    "if os.path.exists(FILE_PATH_XLSX):\n",
    "    file_path, engine = FILE_PATH_XLSX, None\n",
    "elif os.path.exists(FILE_PATH_XLSB):\n",
    "    file_path, engine = FILE_PATH_XLSB, 'pyxlsb'\n",
    "else:\n",
    "    raise FileNotFoundError(f\"No se encontró archivo para el año {YEAR}\")\n",
    "\n",
    "excel_data = pd.ExcelFile(file_path, engine=engine)\n",
    "sheet_names = excel_data.sheet_names\n",
    "print(f\"Hojas disponibles: {sheet_names}\")\n"
   ],
   "id": "8c3f67616d0137e2",
   "outputs": [
    {
     "name": "stdout",
     "output_type": "stream",
     "text": [
      "Hojas disponibles: ['ENE', 'FEB', 'MAR', 'ABR', 'MAY', 'JUN', 'JUL', 'AGO', 'SEP', 'OCT', 'NOV', 'DIC']\n"
     ]
    }
   ],
   "execution_count": 5
  },
  {
   "metadata": {
    "ExecuteTime": {
     "end_time": "2024-12-11T13:53:24.449141Z",
     "start_time": "2024-12-11T13:53:24.192288Z"
    }
   },
   "cell_type": "code",
   "source": [
    "for sheet_name in sheet_names:\n",
    "    print(f\"\\nProcesando hoja: {sheet_name}\")\n",
    "\n",
    "    try:\n",
    "        # Detección de encabezados\n",
    "        sheet_preview = excel_data.parse(sheet_name, nrows=15)\n",
    "        header_row = detect_header_row(sheet_preview)\n",
    "        # Carga completa de datos\n",
    "        sheet_data = excel_data.parse(sheet_name, skiprows=header_row)\n",
    "\n",
    "        new_column_names = {}\n",
    "        for expected_col, possible_names in COLUMN_MAPPING.items():\n",
    "            for col in sheet_data.columns:\n",
    "                if any(re.search(rf\"\\b{re.escape(name)}\\b\", str(col), re.IGNORECASE) for name in possible_names):\n",
    "                    new_column_names[col] = expected_col\n",
    "                    break\n",
    "\n",
    "        # Renombrar columnas según el mapeo\n",
    "        sheet_data = sheet_data.rename(columns=new_column_names)\n",
    "\n",
    "        columnas = sheet_data.columns.tolist()\n",
    "        for col in columnas:\n",
    "            if col not in COLUMN_MAPPING.keys():\n",
    "                sheet_data = sheet_data.drop(columns=[(col)])\n",
    "\n",
    "        sheet_data['Fecha'] = pd.to_datetime(sheet_data['Fecha'], errors='coerce')\n",
    "        sheet_data['Mes'] = sheet_data['Fecha'].dt.month\n",
    "\n",
    "        # Sustituir NaN por la media de cada mes\n",
    "        numeric_columns = sheet_data.select_dtypes(include=['float64', 'int64']).columns\n",
    "        for col in numeric_columns:\n",
    "            sheet_data[col] = sheet_data.groupby('Mes')[col].transform(lambda x: x.fillna(x.mean()))\n",
    "\n",
    "        # Concatenar datos procesados\n",
    "        all_processed_data = pd.concat([all_processed_data, sheet_data], ignore_index=True)\n",
    "\n",
    "    except Exception as e:\n",
    "        print(f\"Error procesando la hoja {sheet_name}: {e}\")\n",
    "\n",
    "print(\"\\nDatos consolidados:\")\n",
    "display(all_processed_data.head())"
   ],
   "id": "4464ce618fdddd95",
   "outputs": [
    {
     "name": "stdout",
     "output_type": "stream",
     "text": [
      "\n",
      "Procesando hoja: ENE\n",
      "\n",
      "Procesando hoja: FEB\n",
      "\n",
      "Procesando hoja: MAR\n",
      "\n",
      "Procesando hoja: ABR\n",
      "\n",
      "Procesando hoja: MAY\n",
      "\n",
      "Procesando hoja: JUN\n",
      "\n",
      "Procesando hoja: JUL\n",
      "\n",
      "Procesando hoja: AGO\n",
      "\n",
      "Procesando hoja: SEP\n",
      "\n",
      "Procesando hoja: OCT\n",
      "\n",
      "Procesando hoja: NOV\n",
      "\n",
      "Procesando hoja: DIC\n",
      "\n",
      "Datos consolidados:\n"
     ]
    },
    {
     "data": {
      "text/plain": [
       "       Fecha  Kiteni  PS#1  PS#2  PS#3  PS#4  Mes\n",
       "0 2021-01-01     6.4  57.6  24.0  14.0   2.0    1\n",
       "1 2021-01-02     1.8  16.6   0.0   0.0   0.0    1\n",
       "2 2021-01-03    21.9  20.4  37.0   0.0   0.0    1\n",
       "3 2021-01-04     1.8   1.8   1.8   0.0   0.0    1\n",
       "4 2021-01-05    48.5  34.6   9.8   0.0   0.0    1"
      ],
      "text/html": [
       "<div>\n",
       "<style scoped>\n",
       "    .dataframe tbody tr th:only-of-type {\n",
       "        vertical-align: middle;\n",
       "    }\n",
       "\n",
       "    .dataframe tbody tr th {\n",
       "        vertical-align: top;\n",
       "    }\n",
       "\n",
       "    .dataframe thead th {\n",
       "        text-align: right;\n",
       "    }\n",
       "</style>\n",
       "<table border=\"1\" class=\"dataframe\">\n",
       "  <thead>\n",
       "    <tr style=\"text-align: right;\">\n",
       "      <th></th>\n",
       "      <th>Fecha</th>\n",
       "      <th>Kiteni</th>\n",
       "      <th>PS#1</th>\n",
       "      <th>PS#2</th>\n",
       "      <th>PS#3</th>\n",
       "      <th>PS#4</th>\n",
       "      <th>Mes</th>\n",
       "    </tr>\n",
       "  </thead>\n",
       "  <tbody>\n",
       "    <tr>\n",
       "      <th>0</th>\n",
       "      <td>2021-01-01</td>\n",
       "      <td>6.4</td>\n",
       "      <td>57.6</td>\n",
       "      <td>24.0</td>\n",
       "      <td>14.0</td>\n",
       "      <td>2.0</td>\n",
       "      <td>1</td>\n",
       "    </tr>\n",
       "    <tr>\n",
       "      <th>1</th>\n",
       "      <td>2021-01-02</td>\n",
       "      <td>1.8</td>\n",
       "      <td>16.6</td>\n",
       "      <td>0.0</td>\n",
       "      <td>0.0</td>\n",
       "      <td>0.0</td>\n",
       "      <td>1</td>\n",
       "    </tr>\n",
       "    <tr>\n",
       "      <th>2</th>\n",
       "      <td>2021-01-03</td>\n",
       "      <td>21.9</td>\n",
       "      <td>20.4</td>\n",
       "      <td>37.0</td>\n",
       "      <td>0.0</td>\n",
       "      <td>0.0</td>\n",
       "      <td>1</td>\n",
       "    </tr>\n",
       "    <tr>\n",
       "      <th>3</th>\n",
       "      <td>2021-01-04</td>\n",
       "      <td>1.8</td>\n",
       "      <td>1.8</td>\n",
       "      <td>1.8</td>\n",
       "      <td>0.0</td>\n",
       "      <td>0.0</td>\n",
       "      <td>1</td>\n",
       "    </tr>\n",
       "    <tr>\n",
       "      <th>4</th>\n",
       "      <td>2021-01-05</td>\n",
       "      <td>48.5</td>\n",
       "      <td>34.6</td>\n",
       "      <td>9.8</td>\n",
       "      <td>0.0</td>\n",
       "      <td>0.0</td>\n",
       "      <td>1</td>\n",
       "    </tr>\n",
       "  </tbody>\n",
       "</table>\n",
       "</div>"
      ]
     },
     "metadata": {},
     "output_type": "display_data"
    }
   ],
   "execution_count": 6
  },
  {
   "metadata": {
    "ExecuteTime": {
     "end_time": "2024-12-11T13:53:24.483676Z",
     "start_time": "2024-12-11T13:53:24.478562Z"
    }
   },
   "cell_type": "code",
   "source": [
    "# ver resumen por mes\n",
    "print(\"Resumen por mes:\")\n",
    "print(all_processed_data.groupby('Mes').size())\n"
   ],
   "id": "60c80343f1bd9ea4",
   "outputs": [
    {
     "name": "stdout",
     "output_type": "stream",
     "text": [
      "Resumen por mes:\n",
      "Mes\n",
      "1     31\n",
      "2     28\n",
      "3     32\n",
      "4     30\n",
      "5     32\n",
      "6     30\n",
      "7     31\n",
      "8     31\n",
      "9     30\n",
      "10    31\n",
      "11    30\n",
      "12    31\n",
      "dtype: int64\n"
     ]
    }
   ],
   "execution_count": 7
  },
  {
   "metadata": {
    "ExecuteTime": {
     "end_time": "2024-12-11T13:53:24.543892Z",
     "start_time": "2024-12-11T13:53:24.541442Z"
    }
   },
   "cell_type": "code",
   "source": "",
   "id": "1aff3df97660f936",
   "outputs": [],
   "execution_count": null
  },
  {
   "metadata": {
    "ExecuteTime": {
     "end_time": "2024-12-11T13:53:24.648017Z",
     "start_time": "2024-12-11T13:53:24.638617Z"
    }
   },
   "cell_type": "code",
   "source": [
    "# Mostrar resumen general de NaN por columna\n",
    "# Mostrar cantidad total de NaN por columna\n",
    "print(\"Cantidad total de valores NaN por columna:\")\n",
    "total_nan = all_processed_data.isnull().sum()\n",
    "print(total_nan)\n",
    "\n",
    "# Identificar columnas con valores NaN y su tipo de dato\n",
    "nan_columns = total_nan[total_nan > 0].index  # Columnas con al menos un NaN\n",
    "for col in nan_columns:\n",
    "    print(f\"Columna: {col}, Tipo: {all_processed_data[col].dtype}, Total NaN: {total_nan[col]}\")\n",
    "\n",
    "# Excluir la columna de agrupamiento ('Mes') y calcular NaN por mes y por columna\n",
    "nan_analysis = (\n",
    "    all_processed_data.drop(columns=['Mes'])  # Excluye la columna 'Mes' si existe\n",
    "    .groupby(all_processed_data['Mes'])       # Agrupa usando la columna 'Mes'\n",
    "    .apply(lambda x: x.isnull().sum())        # Calcula NaN por columna\n",
    ")\n",
    "\n",
    "\n"
   ],
   "id": "50850a373b5450b3",
   "outputs": [
    {
     "name": "stdout",
     "output_type": "stream",
     "text": [
      "Cantidad total de valores NaN por columna:\n",
      "Fecha     0\n",
      "Kiteni    0\n",
      "PS#1      0\n",
      "PS#2      0\n",
      "PS#3      0\n",
      "PS#4      0\n",
      "Mes       0\n",
      "dtype: int64\n"
     ]
    }
   ],
   "execution_count": 8
  },
  {
   "metadata": {},
   "cell_type": "markdown",
   "source": [
    "# Exportar Resultados\n",
    "Guarda los datos procesados en un archivo CSV consolidado.\n"
   ],
   "id": "87f151b9ac70a1db"
  },
  {
   "metadata": {
    "ExecuteTime": {
     "end_time": "2024-12-11T13:53:24.688067Z",
     "start_time": "2024-12-11T13:53:24.677659Z"
    }
   },
   "cell_type": "code",
   "source": [
    "all_processed_data.to_csv(OUTPUT_PATH, index=False, encoding='utf-8')\n",
    "print(f\"Datos consolidados guardados en: {OUTPUT_PATH}\")\n"
   ],
   "id": "af85f9dca8b06f37",
   "outputs": [
    {
     "name": "stdout",
     "output_type": "stream",
     "text": [
      "Datos consolidados guardados en: ../data/processed/2021/pluviometros-eda-2021.csv\n"
     ]
    }
   ],
   "execution_count": 9
  },
  {
   "metadata": {},
   "cell_type": "markdown",
   "source": "# Graficos mensuales\n",
   "id": "29a06b044e173c1a"
  },
  {
   "metadata": {
    "ExecuteTime": {
     "end_time": "2024-12-11T13:53:27.103308Z",
     "start_time": "2024-12-11T13:53:24.701709Z"
    }
   },
   "cell_type": "code",
   "source": [
    "import matplotlib.pyplot as plt\n",
    "from matplotlib.backends.backend_pdf import PdfPages\n",
    "\n",
    "# Crear un archivo PDF\n",
    "OUTPUT_PATH = f\"{PROCESSED_FOLDER}/{YEAR}/graphic-pluviometros-eda-{YEAR}.pdf\"\n",
    "with PdfPages(OUTPUT_PATH) as pdf:\n",
    "    # Iterar sobre cada mes\n",
    "    for mes in range(1, 13):\n",
    "        # Filtrar los datos por mes\n",
    "        data_mes = all_processed_data[pd.to_datetime(all_processed_data['Fecha']).dt.month == mes]\n",
    "        promedios_mes = data_mes.mean(numeric_only=True)\n",
    "\n",
    "        # Crear el gráfico\n",
    "        plt.figure(figsize=(10, 6))\n",
    "        promedios_mes.plot(kind='bar')\n",
    "        plt.title(f\"Promedio de Lluvia - Mes {mes}\")\n",
    "        plt.xlabel(\"Sensores/Tramos\")\n",
    "        plt.ylabel(\"Promedio de Lluvia\")\n",
    "        plt.xticks(rotation=45)\n",
    "        plt.tight_layout()\n",
    "\n",
    "        # Guardar el gráfico en el PDF\n",
    "        pdf.savefig()  # Guarda la figura actual en el PDF\n",
    "        plt.close()  # Cierra la figura para no sobrecargar la memoria\n",
    "\n",
    "print(f\"Gráficos mensuales guardados en {OUTPUT_PATH}\")\n"
   ],
   "id": "427eff0ffdacf71f",
   "outputs": [
    {
     "name": "stdout",
     "output_type": "stream",
     "text": [
      "Gráficos mensuales guardados en ../data/processed/2021/graphic-pluviometros-eda-2021.pdf\n"
     ]
    }
   ],
   "execution_count": 10
  },
  {
   "metadata": {
    "ExecuteTime": {
     "end_time": "2024-12-11T13:53:27.120653Z",
     "start_time": "2024-12-11T13:53:27.118529Z"
    }
   },
   "cell_type": "code",
   "source": "",
   "id": "8253918935916a3b",
   "outputs": [],
   "execution_count": null
  }
 ],
 "metadata": {
  "kernelspec": {
   "name": "python3",
   "language": "python",
   "display_name": "Python 3 (ipykernel)"
  }
 },
 "nbformat": 5,
 "nbformat_minor": 9
}
